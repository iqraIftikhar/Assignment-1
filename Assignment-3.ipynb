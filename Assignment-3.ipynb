{
 "cells": [
  {
   "cell_type": "markdown",
   "metadata": {},
   "source": [
    "# Assignment-3\n",
    "IQRA IFTIKHAR ,      \n",
    "PIAIC56331 , \n",
    "Session-4."
   ]
  },
  {
   "cell_type": "markdown",
   "metadata": {},
   "source": [
    "# Task-1 \n",
    "(Python Program to Add a Key-Value Pair to the Dictionary)"
   ]
  },
  {
   "cell_type": "code",
   "execution_count": 1,
   "metadata": {},
   "outputs": [
    {
     "name": "stdout",
     "output_type": "stream",
     "text": [
      "case 1\n",
      "Enter the key (int) to be added:12\n",
      "Enter the value for the key to be added:34\n",
      "{12: 34}\n",
      "case 2\n",
      "Enter the key (int) to be added:34\n",
      "Enter the value for the key to be added:29\n",
      "{34: 29}\n"
     ]
    }
   ],
   "source": [
    "for i in range (1,3):\n",
    "    print(\"case\",i)\n",
    "    key1=int(input(\"Enter the key (int) to be added:\"))\n",
    "    value1=int(input(\"Enter the value for the key to be added:\"))\n",
    "    tempdict={}\n",
    "#tempdict[\"key1\"]=key1\n",
    "#tempdict[\"value1\"]=value1\n",
    "    tempdict.update({key1 : value1})\n",
    "    print(tempdict)"
   ]
  },
  {
   "cell_type": "markdown",
   "metadata": {},
   "source": [
    "# Task-2\n",
    "(Python Program to Concatenate Two Dictionaries Into One)"
   ]
  },
  {
   "cell_type": "code",
   "execution_count": 5,
   "metadata": {},
   "outputs": [
    {
     "name": "stdout",
     "output_type": "stream",
     "text": [
      "case 1:\n",
      "concatenated dictionary is:\n",
      "{'A': 1, 'C': 3, 'B': 2}\n"
     ]
    }
   ],
   "source": [
    "dict1={\n",
    "\"A\":1,\n",
    " \"C\": 3\n",
    "}\n",
    "dict2={\n",
    " \"B\": 2\n",
    "}\n",
    "print(\"case 1:\")\n",
    "print(\"concatenated dictionary is:\")\n",
    "dict1.update(dict2)\n",
    "print(dict1)\n",
    "    "
   ]
  },
  {
   "cell_type": "markdown",
   "metadata": {},
   "source": [
    "# Tast-3\n",
    "(Python Program to Check if a Given Key Exists in a Dictionary or Not)"
   ]
  },
  {
   "cell_type": "code",
   "execution_count": 7,
   "metadata": {},
   "outputs": [
    {
     "name": "stdout",
     "output_type": "stream",
     "text": [
      "case 1\n",
      "Enter key to check:A\n",
      "Key is present and value of the key is:\n",
      "1\n",
      "case 2\n",
      "Enter key to check:F\n",
      "Key isn't present!\n"
     ]
    }
   ],
   "source": [
    "data={\n",
    "\"A\":1,\n",
    " \"C\": 3\n",
    "}\n",
    "for d in range (1,3):\n",
    "    print(\"case\",d)\n",
    "    key=input(\"Enter key to check:\")\n",
    "    if (key in data.keys()):\n",
    "        print(\"Key is present and value of the key is:\")\n",
    "        print(data[key])\n",
    "    else:\n",
    "        print(\"Key isn't present!\")"
   ]
  },
  {
   "cell_type": "markdown",
   "metadata": {},
   "source": [
    "# Task-4\n",
    "(Python Program to Generate a Dictionary that Contains Numbers (between 1 and n) in the Form (x,x*x))"
   ]
  },
  {
   "cell_type": "code",
   "execution_count": 9,
   "metadata": {},
   "outputs": [
    {
     "name": "stdout",
     "output_type": "stream",
     "text": [
      "case 1\n",
      "Enter a Number:5\n",
      "{1: 1, 2: 4, 3: 9, 4: 16, 5: 25}\n",
      "case 2\n",
      "Enter a Number:19\n",
      "{1: 1, 2: 4, 3: 9, 4: 16, 5: 25, 6: 36, 7: 49, 8: 64, 9: 81, 10: 100, 11: 121, 12: 144, 13: 169, 14: 196, 15: 225, 16: 256, 17: 289, 18: 324, 19: 361}\n"
     ]
    }
   ],
   "source": [
    "for x in range(1,3):\n",
    "    print(\"case\",x)\n",
    "    num1=int(input(\"Enter a Number:\"))\n",
    "    dic={x:x*x for x in range(1,num1+1)}\n",
    "    print(dic)"
   ]
  },
  {
   "cell_type": "markdown",
   "metadata": {},
   "source": [
    "# Task-5 \n",
    "(Python Program to Sum All the Items in a Dictionary)"
   ]
  },
  {
   "cell_type": "code",
   "execution_count": 25,
   "metadata": {},
   "outputs": [
    {
     "name": "stdout",
     "output_type": "stream",
     "text": [
      "case  1\n",
      "Total sum of values in the dictionary:\n",
      "125\n"
     ]
    }
   ],
   "source": [
    "newdic={\n",
    "\"A\":95,\n",
    " \"C\":30\n",
    "}\n",
    "sum=0\n",
    "for y in newdic:\n",
    "    sum=sum+newdic[y]\n",
    "print(\"case  1\")\n",
    "print(\"Total sum of values in the dictionary:\")\n",
    "print(sum)"
   ]
  },
  {
   "cell_type": "markdown",
   "metadata": {},
   "source": [
    "# Task-6 \n",
    "(Python Program to Multiply All the Items in a Dictionary)"
   ]
  },
  {
   "cell_type": "code",
   "execution_count": 28,
   "metadata": {},
   "outputs": [
    {
     "name": "stdout",
     "output_type": "stream",
     "text": [
      "Case 1\n",
      "The multiplication of all items is: 23900\n"
     ]
    }
   ],
   "source": [
    "data2={'A':10,'B':10,'C':239}\n",
    "num=1\n",
    "for i in data2:    \n",
    "    num=num*data2[i]\n",
    "print(\"Case 1\")\n",
    "print(\"The multiplication of all items is:\" , num)"
   ]
  },
  {
   "cell_type": "markdown",
   "metadata": {},
   "source": [
    "# Task-7\n",
    "(Python Program to Remove the Given Key from a Dictionary)"
   ]
  },
  {
   "cell_type": "code",
   "execution_count": 20,
   "metadata": {},
   "outputs": [
    {
     "name": "stdout",
     "output_type": "stream",
     "text": [
      "case : 1\n",
      "initial dictionary\n",
      "{'a': 10, 'c': 30, 'b': 26, 'd': 42}\n",
      "Enter the key to delete(a-d):c\n",
      "updated dictionary:\n",
      "{'a': 10, 'b': 26, 'd': 42}\n",
      "case : 2\n",
      "initial dictionary\n",
      "{'a': 10, 'c': 30, 'b': 26, 'd': 42}\n",
      "Enter the key to delete(a-d):g\n",
      "Key not found!\n"
     ]
    }
   ],
   "source": [
    "for p in range(1,3):\n",
    "    print(\"case :\", p )\n",
    "    data4 = {'a':10, 'c':30,'b':26,'d':42}\n",
    "    print(\"initial dictionary\")\n",
    "    print(data4)\n",
    "    key = input(\"Enter the key to delete(a-d):\")\n",
    "    if(key in data4.keys()):\n",
    "        data4.pop(key)\n",
    "        print(\"updated dictionary:\")\n",
    "        print(data4)\n",
    "    else: \n",
    "        print(\"Key not found!\")"
   ]
  },
  {
   "cell_type": "markdown",
   "metadata": {},
   "source": [
    "# Task-8\n",
    "(Python Program to Map Two Lists into a Dictionary)"
   ]
  },
  {
   "cell_type": "code",
   "execution_count": 6,
   "metadata": {},
   "outputs": [
    {
     "name": "stdout",
     "output_type": "stream",
     "text": [
      "case 1\n",
      "Enter number of elements for dictionary:3\n",
      "For keys:\n",
      "Enter element 1:1\n",
      "Enter element 2:2\n",
      "Enter element 3:3\n",
      "For values:\n",
      "Enter element1:1\n",
      "Enter element2:4\n",
      "Enter element3:9\n",
      "The dictionary is:\n",
      "{1: 1, 2: 4, 3: 9}\n",
      "case 2\n",
      "Enter number of elements for dictionary:2\n",
      "For keys:\n",
      "Enter element 1:23\n",
      "Enter element 2:46\n",
      "For values:\n",
      "Enter element1:69\n",
      "Enter element2:138\n",
      "The dictionary is:\n",
      "{1: 1, 2: 4, 3: 9, 23: 69, 46: 138}\n"
     ]
    }
   ],
   "source": [
    "keys=[]\n",
    "values=[]\n",
    "for z in range(1,3):\n",
    "    print(\"case\", z)\n",
    "    ele=int(input(\"Enter number of elements for dictionary:\"))\n",
    "    print(\"For keys:\")\n",
    "    for r in range(1,ele+1):\n",
    "        element=int(input(\"Enter element \"+str(r)+ \":\"))\n",
    "        keys.append(element)\n",
    "    print(\"For values:\")\n",
    "    for r in range(1,ele+1):\n",
    "        element=int(input(\"Enter element\"+str(r)+\":\"))\n",
    "        values.append(element)\n",
    "        s=dict(zip(keys,values))\n",
    "    print(\"The dictionary is:\")\n",
    "    print(s)"
   ]
  },
  {
   "cell_type": "markdown",
   "metadata": {},
   "source": [
    "# Task-9 \n",
    "(Python Program to Count the Frequency of Words Appearing in a String Using a Dictionary)"
   ]
  },
  {
   "cell_type": "code",
   "execution_count": 4,
   "metadata": {},
   "outputs": [
    {
     "name": "stdout",
     "output_type": "stream",
     "text": [
      "case : 1\n",
      "Enter string:Hello world program world test\n",
      "['Hello', 'world', 'program', 'world', 'test']\n",
      "{'Hello': 1, 'world': 2, 'program': 1, 'test': 1}\n",
      "case : 2\n",
      "Enter string:orange banana apple apple orange pineapple\n",
      "['orange', 'banana', 'apple', 'apple', 'orange', 'pineapple']\n",
      "{'orange': 2, 'banana': 1, 'apple': 2, 'pineapple': 1}\n"
     ]
    }
   ],
   "source": [
    "for t in range(1,3):\n",
    "    print(\"case :\", t )\n",
    "    val=input(\"Enter string:\")\n",
    "    list1=[]\n",
    "    list1=val.split()\n",
    "    print(list1)\n",
    "    count_word_freq=[list1.count(t) for t in list1] \n",
    "    print(dict(zip(list1,count_word_freq)))"
   ]
  },
  {
   "cell_type": "markdown",
   "metadata": {},
   "source": [
    "# Task-10\n",
    "(Python Program to Create a Dictionary with Key as First Character and Value as Words Starting with that Character)"
   ]
  },
  {
   "cell_type": "code",
   "execution_count": 5,
   "metadata": {},
   "outputs": [
    {
     "name": "stdout",
     "output_type": "stream",
     "text": [
      "case : 1\n",
      "Enter string: Hello world this is a test string sanfoundry\n",
      "['Hello', 'world', 'this', 'is', 'a', 'test', 'string', 'sanfoundry']\n",
      "( ' H ' : ['Hello'] )\n",
      "( ' w ' : ['world'] )\n",
      "( ' t ' : ['this', 'test'] )\n",
      "( ' i ' : ['is'] )\n",
      "( ' a ' : ['a'] )\n",
      "( ' s ' : ['string', 'sanfoundry'] )\n",
      "case : 2\n",
      "Enter string: python is my most favourite programming language in the entire world\n",
      "['python', 'is', 'my', 'most', 'favourite', 'programming', 'language', 'in', 'the', 'entire', 'world']\n",
      "( ' p ' : ['python', 'programming'] )\n",
      "( ' i ' : ['is', 'in'] )\n",
      "( ' m ' : ['my', 'most'] )\n",
      "( ' f ' : ['favourite'] )\n",
      "( ' l ' : ['language'] )\n",
      "( ' t ' : ['the'] )\n",
      "( ' e ' : ['entire'] )\n",
      "( ' w ' : ['world'] )\n"
     ]
    }
   ],
   "source": [
    "for f in range(1,3):\n",
    "    print(\"case :\", f )\n",
    "    var1 = input(\"Enter string: \")\n",
    "    dict3 = {}\n",
    "    list1 =[]\n",
    "    list2 = []\n",
    "    list1 = var1.split()\n",
    "    print(list1)\n",
    "    for word in list1:\n",
    "        if(word[0] not in dict3.keys()):\n",
    "            dict3[word[0]]=[] \n",
    "            dict3[word[0]].append(word) \n",
    "        else:\n",
    "            if(word[0] in dict3.keys()):\n",
    "                dict3[word[0]].append(word)\n",
    "   \n",
    "    for key, value in dict3.items():\n",
    "        print(\"(\",\"'\",key,\"'\",\":\", value,\")\")"
   ]
  },
  {
   "cell_type": "code",
   "execution_count": null,
   "metadata": {},
   "outputs": [],
   "source": []
  }
 ],
 "metadata": {
  "kernelspec": {
   "display_name": "Python 3",
   "language": "python",
   "name": "python3"
  },
  "language_info": {
   "codemirror_mode": {
    "name": "ipython",
    "version": 3
   },
   "file_extension": ".py",
   "mimetype": "text/x-python",
   "name": "python",
   "nbconvert_exporter": "python",
   "pygments_lexer": "ipython3",
   "version": "3.7.0"
  }
 },
 "nbformat": 4,
 "nbformat_minor": 2
}
