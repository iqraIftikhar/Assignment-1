{
 "cells": [
  {
   "cell_type": "markdown",
   "metadata": {},
   "source": [
    "\n",
    "# Python Mega Assignment # 1\n",
    "# PIAIC56331\n",
    "\n",
    "# 1. Which of the following terms are related to dictionaries?\n",
    "a. value\n",
    "b. item\n",
    "d. key\n",
    "\n",
    "\n"
   ]
  },
  {
   "cell_type": "markdown",
   "metadata": {},
   "source": [
    "# 2. Just like lists, + operator is used to extend dictionaries?\n",
    "b. False"
   ]
  },
  {
   "cell_type": "markdown",
   "metadata": {},
   "source": [
    "# 3. To access items from a dictionary, we specify the index of that item within [] like myDict[0]?\n",
    "b. False"
   ]
  },
  {
   "cell_type": "markdown",
   "metadata": {},
   "source": [
    "# 4. When we use [] to access the value from a dictionary which does not exist in that dictionary….?\n",
    "d. None of above"
   ]
  },
  {
   "cell_type": "markdown",
   "metadata": {},
   "source": [
    "\n",
    "# 5. What does return the pop method of a dictionary?\n",
    "d. value of the key, if it exists in the dictionary"
   ]
  },
  {
   "cell_type": "markdown",
   "metadata": {},
   "source": [
    "\n",
    "# 6. What does return popitem method return?\n",
    "b. tupple containing the pair of last item of the dictionary"
   ]
  },
  {
   "cell_type": "markdown",
   "metadata": {},
   "source": [
    "\n",
    "# 7. Which of the following 2 methods can be used to iterate through the items of a dictionary?\n",
    "a. items()\n",
    "d. keys()"
   ]
  },
  {
   "cell_type": "markdown",
   "metadata": {},
   "source": [
    "\n",
    "# 8. Which one of the following is used to enclose a dictionary?\n",
    "b. {} curly brackets\n"
   ]
  },
  {
   "cell_type": "markdown",
   "metadata": {},
   "source": [
    "# 9. Write Python Program add key-value pair in dictionary and check if a Given Key or Value or Both Exists in a Dictionary or Not"
   ]
  },
  {
   "cell_type": "code",
   "execution_count": 101,
   "metadata": {},
   "outputs": [
    {
     "name": "stdout",
     "output_type": "stream",
     "text": [
      "Enter key1\n",
      "Enter value5\n",
      "enter c if you dont want to continue :c\n",
      "{1: 5}\n",
      "enter key you want to find :2\n",
      "enter value you want to find :10\n"
     ]
    },
    {
     "ename": "TypeError",
     "evalue": "argument of type 'int' is not iterable",
     "output_type": "error",
     "traceback": [
      "\u001b[1;31m---------------------------------------------------------------------------\u001b[0m",
      "\u001b[1;31mTypeError\u001b[0m                                 Traceback (most recent call last)",
      "\u001b[1;32m<ipython-input-101-00387b344ed4>\u001b[0m in \u001b[0;36m<module>\u001b[1;34m\u001b[0m\n\u001b[0;32m     10\u001b[0m \u001b[0mfind_value\u001b[0m \u001b[1;33m=\u001b[0m \u001b[0mint\u001b[0m\u001b[1;33m(\u001b[0m\u001b[0minput\u001b[0m\u001b[1;33m(\u001b[0m\u001b[1;34m\"enter value you want to find :\"\u001b[0m\u001b[1;33m)\u001b[0m\u001b[1;33m)\u001b[0m\u001b[1;33m\u001b[0m\u001b[0m\n\u001b[0;32m     11\u001b[0m \u001b[1;32mfor\u001b[0m \u001b[0mk\u001b[0m\u001b[1;33m,\u001b[0m\u001b[0mv\u001b[0m \u001b[1;32min\u001b[0m \u001b[0mmydict1\u001b[0m\u001b[1;33m.\u001b[0m\u001b[0mitems\u001b[0m\u001b[1;33m(\u001b[0m\u001b[1;33m)\u001b[0m\u001b[1;33m:\u001b[0m\u001b[1;33m\u001b[0m\u001b[0m\n\u001b[1;32m---> 12\u001b[1;33m     \u001b[1;32mif\u001b[0m \u001b[1;33m(\u001b[0m\u001b[0mfind_key\u001b[0m \u001b[1;32min\u001b[0m \u001b[0mk\u001b[0m \u001b[1;32mand\u001b[0m \u001b[0mfind_value\u001b[0m \u001b[1;32min\u001b[0m \u001b[0mv\u001b[0m\u001b[1;33m)\u001b[0m\u001b[1;33m:\u001b[0m\u001b[1;33m\u001b[0m\u001b[0m\n\u001b[0m\u001b[0;32m     13\u001b[0m         \u001b[0mprint\u001b[0m\u001b[1;33m(\u001b[0m\u001b[1;34m\"key & value both exist\"\u001b[0m\u001b[1;33m)\u001b[0m\u001b[1;33m\u001b[0m\u001b[0m\n\u001b[0;32m     14\u001b[0m     \u001b[1;32melif\u001b[0m\u001b[1;33m(\u001b[0m\u001b[1;33m(\u001b[0m\u001b[0mfind_key\u001b[0m \u001b[1;32min\u001b[0m \u001b[0mk\u001b[0m \u001b[1;32mand\u001b[0m \u001b[0mfind_value\u001b[0m \u001b[1;32mnot\u001b[0m \u001b[1;32min\u001b[0m \u001b[0mv\u001b[0m\u001b[1;33m)\u001b[0m\u001b[1;33m)\u001b[0m\u001b[1;33m:\u001b[0m\u001b[1;33m\u001b[0m\u001b[0m\n",
      "\u001b[1;31mTypeError\u001b[0m: argument of type 'int' is not iterable"
     ]
    }
   ],
   "source": [
    "mydict1 = {}\n",
    "status = 'y'\n",
    "while status != 'c':\n",
    "    k = int(input(\"Enter key\"))\n",
    "    v = int(input(\"Enter value\"))\n",
    "    mydict1.update({k:v})\n",
    "    status = input('enter c if you dont want to continue :')\n",
    "print(mydict1)\n",
    "find_key = int(input(\"enter key you want to find :\"))\n",
    "find_value = int(input(\"enter value you want to find :\"))\n",
    "for k,v in mydict1.items():\n",
    "    if (find_key in k and find_value in v):\n",
    "        print(\"key & value both exist\")\n",
    "    elif((find_key in k and find_value not in v)):\n",
    "        print(\"only key exists\")\n",
    "    elif((find_key not in k and find_value in v)):\n",
    "        print(\"only value exists \")\n",
    "    else:\n",
    "        print(\"both key and value not found\")"
   ]
  },
  {
   "cell_type": "code",
   "execution_count": 104,
   "metadata": {},
   "outputs": [
    {
     "name": "stdout",
     "output_type": "stream",
     "text": [
      "Enter key1\n",
      "Enter value10\n",
      "enter c if you dont want to continue :h\n",
      "Enter key2\n",
      "Enter value20\n",
      "enter c if you dont want to continue :j\n",
      "Enter key3\n",
      "Enter value30\n",
      "enter c if you dont want to continue :c\n",
      "{1: 10, 2: 20, 3: 30}\n",
      "enter key you want to find :2\n",
      "enter value you want to find :20\n",
      "both key and value not found\n",
      "key & value both exist\n",
      "both key and value not found\n"
     ]
    }
   ],
   "source": [
    "mydict1 = {}\n",
    "status = 'y'\n",
    "while status != 'c':\n",
    "    k = int(input(\"Enter key\"))\n",
    "    v = int(input(\"Enter value\"))\n",
    "    mydict1.update({k:v})\n",
    "    status = input('enter c if you dont want to continue :')\n",
    "print(mydict1)\n",
    "find_key = int(input(\"enter key you want to find :\"))\n",
    "find_value = int(input(\"enter value you want to find :\"))\n",
    "for k,v in mydict1.items():\n",
    "    if (find_key == k and find_value == v):\n",
    "        print(\"key & value both exist\")\n",
    "    elif((find_key == k and find_value != v)):\n",
    "        print(\"only key exists\")\n",
    "    elif((find_key != k and find_value == v)):\n",
    "        print(\"only value exists \")\n",
    "    else:\n",
    "        print(\"both key and value not found\")"
   ]
  },
  {
   "cell_type": "markdown",
   "metadata": {},
   "source": [
    "# 10. Write a Python Program to Count the Frequency of Words Appearing in a String Using a Dictionary and print only the words having Even (divisible by 2) frequency."
   ]
  },
  {
   "cell_type": "code",
   "execution_count": 100,
   "metadata": {},
   "outputs": [
    {
     "name": "stdout",
     "output_type": "stream",
     "text": [
      "Enter string: digigirls digital world digigirls world wide web \n",
      "digigirls\n",
      "world\n"
     ]
    }
   ],
   "source": [
    "val = input(\"Enter string: \")\n",
    "lst1 = val.split()\n",
    "lst2 = [lst1.count(x) for x in lst1]\n",
    "mydict =dict(zip(lst1,lst2))\n",
    "for k, v in mydict.items():\n",
    "    if (v%2 == 0):\n",
    "        print(k)"
   ]
  },
  {
   "cell_type": "markdown",
   "metadata": {},
   "source": [
    "# 11. X = [\"Feb\", Apr, Mar, May, Jun, Jul, Aug, Jan]. What will be output of following?\n",
    "X[0:3]\n",
    "\n",
    "X[2:8]\n",
    "\n",
    "X[4:9]\n",
    "\n",
    "X[1:7:2]\n",
    "\n",
    "X[-1:-7]\n",
    "\n",
    "X[-7:7]\n",
    "\n",
    "X[-1:-8:-2]\n",
    "\n",
    "X[:4]"
   ]
  },
  {
   "cell_type": "code",
   "execution_count": 2,
   "metadata": {},
   "outputs": [
    {
     "ename": "NameError",
     "evalue": "name 'Apr' is not defined",
     "output_type": "error",
     "traceback": [
      "\u001b[1;31m---------------------------------------------------------------------------\u001b[0m",
      "\u001b[1;31mNameError\u001b[0m                                 Traceback (most recent call last)",
      "\u001b[1;32m<ipython-input-2-c85da10a224c>\u001b[0m in \u001b[0;36m<module>\u001b[1;34m\u001b[0m\n\u001b[1;32m----> 1\u001b[1;33m \u001b[0mX\u001b[0m \u001b[1;33m=\u001b[0m \u001b[1;33m[\u001b[0m\u001b[1;34m\"Feb\"\u001b[0m\u001b[1;33m,\u001b[0m \u001b[0mApr\u001b[0m\u001b[1;33m,\u001b[0m \u001b[0mMar\u001b[0m\u001b[1;33m,\u001b[0m \u001b[0mMay\u001b[0m\u001b[1;33m,\u001b[0m \u001b[0mJun\u001b[0m\u001b[1;33m,\u001b[0m \u001b[0mJul\u001b[0m\u001b[1;33m,\u001b[0m \u001b[0mAug\u001b[0m\u001b[1;33m,\u001b[0m \u001b[0mJan\u001b[0m\u001b[1;33m]\u001b[0m\u001b[1;33m\u001b[0m\u001b[0m\n\u001b[0m\u001b[0;32m      2\u001b[0m \u001b[0mX\u001b[0m\u001b[1;33m[\u001b[0m\u001b[1;36m0\u001b[0m\u001b[1;33m:\u001b[0m\u001b[1;36m3\u001b[0m\u001b[1;33m]\u001b[0m\u001b[1;33m\u001b[0m\u001b[0m\n\u001b[0;32m      3\u001b[0m \u001b[1;33m\u001b[0m\u001b[0m\n\u001b[0;32m      4\u001b[0m \u001b[0mX\u001b[0m\u001b[1;33m[\u001b[0m\u001b[1;36m2\u001b[0m\u001b[1;33m:\u001b[0m\u001b[1;36m8\u001b[0m\u001b[1;33m]\u001b[0m\u001b[1;33m\u001b[0m\u001b[0m\n\u001b[0;32m      5\u001b[0m \u001b[1;33m\u001b[0m\u001b[0m\n",
      "\u001b[1;31mNameError\u001b[0m: name 'Apr' is not defined"
     ]
    }
   ],
   "source": [
    "X = [\"Feb\", Apr, Mar, May, Jun, Jul, Aug, Jan]\n",
    "X[0:3]\n",
    "\n",
    "X[2:8]\n",
    "\n",
    "X[4:9]\n",
    "\n",
    "X[1:7:2]\n",
    "\n",
    "X[-1:-7]\n",
    "\n",
    "X[-7:7]\n",
    "\n",
    "X[-1:-8:-2]\n",
    "\n",
    "X[:4]"
   ]
  },
  {
   "cell_type": "code",
   "execution_count": 7,
   "metadata": {},
   "outputs": [
    {
     "name": "stdout",
     "output_type": "stream",
     "text": [
      "['Feb', 'Apr', 'Mar']\n",
      "['Mar', 'May', 'Jun', 'Jul', 'Aug', 'Jan']\n",
      "['Jun', 'Jul', 'Aug', 'Jan']\n",
      "['Apr', 'May', 'Jul']\n",
      "[]\n",
      "['Apr', 'Mar', 'May', 'Jun', 'Jul', 'Aug']\n",
      "['Jan', 'Jul', 'May', 'Apr']\n",
      "['Feb', 'Apr', 'Mar', 'May']\n"
     ]
    }
   ],
   "source": [
    "X = [\"Feb\", \"Apr\", \"Mar\", \"May\", \"Jun\", \"Jul\", \"Aug\", \"Jan\"]\n",
    "print(X[0:3])\n",
    "print(X[2:8])\n",
    "print(X[4:9])\n",
    "print(X[1:7:2])\n",
    "print(X[-1:-7])\n",
    "print(X[-7:7])\n",
    "print(X[-1:-8:-2])\n",
    "print(X[:4])"
   ]
  },
  {
   "cell_type": "markdown",
   "metadata": {},
   "source": [
    "# 12. Remove the correct number from the list X\n",
    "X = [ 9,2,8,4,5]\n",
    "\n",
    "X__?__\n",
    "\n",
    "print (X)\n",
    "\n",
    "Output: [2,8,4,5]\n",
    "\n",
    "1) .delete(9)\n",
    "\n",
    "2) .rm(9)\n",
    "\n",
    "3) .remove(9)"
   ]
  },
  {
   "cell_type": "code",
   "execution_count": 6,
   "metadata": {},
   "outputs": [
    {
     "name": "stdout",
     "output_type": "stream",
     "text": [
      "[2, 8, 4, 5]\n"
     ]
    }
   ],
   "source": [
    "X = [ 9,2,8,4,5]\n",
    "X.remove(9)\n",
    "print (X)\n"
   ]
  },
  {
   "cell_type": "markdown",
   "metadata": {},
   "source": [
    "# 13. p = 3\n",
    "\n",
    " q = 'hello! '     \n",
    " print( q __?__ p)  \n",
    " hello! hello! hello!  \n",
    " 1) *   \n",
    " 2) **  \n",
    " 3) +  "
   ]
  },
  {
   "cell_type": "code",
   "execution_count": 9,
   "metadata": {},
   "outputs": [
    {
     "name": "stdout",
     "output_type": "stream",
     "text": [
      "hello! hello! hello! \n"
     ]
    }
   ],
   "source": [
    "p=3\n",
    "q = 'hello! '\n",
    "print( q*p)"
   ]
  },
  {
   "cell_type": "markdown",
   "metadata": {},
   "source": [
    "# 14. y = \"this is a random sentence\"\n",
    "print (y__?__)     \n",
    "Output: THIS IS A RANDOM SENTENCE     \n",
    "1) .upper()   \n",
    "2) .upcase()    \n",
    "3) .capitalize()    \n"
   ]
  },
  {
   "cell_type": "code",
   "execution_count": 10,
   "metadata": {},
   "outputs": [
    {
     "name": "stdout",
     "output_type": "stream",
     "text": [
      "THIS IS A RANDOM SENTENCE\n"
     ]
    }
   ],
   "source": [
    "y = \"this is a random sentence\"\n",
    "print (y.upper())"
   ]
  },
  {
   "cell_type": "markdown",
   "metadata": {},
   "source": [
    "# 15. p = True\n",
    " q = ‘True’   \n",
    " r = 2    \n",
    " s = 2.0    \n",
    "print(type(p))    \n",
    "print(type(q))    \n",
    "print(type(r))   \n",
    "print(type(s))   \n"
   ]
  },
  {
   "cell_type": "code",
   "execution_count": 64,
   "metadata": {},
   "outputs": [
    {
     "ename": "SyntaxError",
     "evalue": "invalid character in identifier (<ipython-input-64-032e5356bfbe>, line 2)",
     "output_type": "error",
     "traceback": [
      "\u001b[1;36m  File \u001b[1;32m\"<ipython-input-64-032e5356bfbe>\"\u001b[1;36m, line \u001b[1;32m2\u001b[0m\n\u001b[1;33m    q = ‘True’\u001b[0m\n\u001b[1;37m             ^\u001b[0m\n\u001b[1;31mSyntaxError\u001b[0m\u001b[1;31m:\u001b[0m invalid character in identifier\n"
     ]
    }
   ],
   "source": [
    "p = True\n",
    "q = ‘True’\n",
    "r = 2\n",
    "s = 2.0\n",
    "print(type(p))\n",
    "print(type(q))\n",
    "print(type(r))\n",
    "print(type(s))"
   ]
  },
  {
   "cell_type": "code",
   "execution_count": 65,
   "metadata": {},
   "outputs": [
    {
     "name": "stdout",
     "output_type": "stream",
     "text": [
      "<class 'bool'>\n",
      "<class 'str'>\n",
      "<class 'int'>\n",
      "<class 'float'>\n"
     ]
    }
   ],
   "source": [
    "p = True\n",
    "q = \"True\"\n",
    "r = 2\n",
    "s = 2.0\n",
    "print(type(p))\n",
    "print(type(q))\n",
    "print(type(r))\n",
    "print(type(s))"
   ]
  },
  {
   "cell_type": "markdown",
   "metadata": {},
   "source": [
    "# 16. What are the optional arguments to the function?\n",
    "function_1(R1, q, p=None, R2= None)    \n",
    "   \n",
    "2) p and R2   \n",
    "      "
   ]
  },
  {
   "cell_type": "markdown",
   "metadata": {},
   "source": [
    "# 17. Which command invokes method X() of the object p?\n",
    "   \n",
    "4) p.x()   \n"
   ]
  },
  {
   "cell_type": "markdown",
   "metadata": {},
   "source": [
    "# 18. X=4 , Y= 2\n",
    "print(X % Y)   \n",
    "print(X / Y)   \n",
    "print(X // Y)   \n",
    "print(Y % X)   \n"
   ]
  },
  {
   "cell_type": "code",
   "execution_count": 13,
   "metadata": {},
   "outputs": [
    {
     "ename": "SyntaxError",
     "evalue": "can't assign to literal (<ipython-input-13-1e1f74add5a5>, line 1)",
     "output_type": "error",
     "traceback": [
      "\u001b[1;36m  File \u001b[1;32m\"<ipython-input-13-1e1f74add5a5>\"\u001b[1;36m, line \u001b[1;32m1\u001b[0m\n\u001b[1;33m    X=4 , Y= 2\u001b[0m\n\u001b[1;37m     ^\u001b[0m\n\u001b[1;31mSyntaxError\u001b[0m\u001b[1;31m:\u001b[0m can't assign to literal\n"
     ]
    }
   ],
   "source": [
    "X=4 , Y= 2\n",
    "print(X % Y)\n",
    "print(X / Y)\n",
    "print(X // Y)\n",
    "print(Y % X)"
   ]
  },
  {
   "cell_type": "code",
   "execution_count": 14,
   "metadata": {},
   "outputs": [
    {
     "name": "stdout",
     "output_type": "stream",
     "text": [
      "0\n",
      "2.0\n",
      "2\n",
      "2\n"
     ]
    }
   ],
   "source": [
    "X,Y=4,2\n",
    "print(X % Y)\n",
    "print(X / Y)\n",
    "print(X // Y)\n",
    "print(Y % X)"
   ]
  },
  {
   "cell_type": "markdown",
   "metadata": {},
   "source": [
    "# 19. x = [[4, 1, 1], [5, 9, 0]]\n",
    "for i in __?__:    \n",
    " for j in __?__:   \n",
    " ?  \n",
    "Output: 4  \n",
    "1  \n",
    "1  \n",
    "5  \n",
    "9  \n",
    "0  \n",
    "x = [[4, 1, 1], [5, 9, 0]]  \n",
    "for i in __?__:  \n",
    " for j in __?__:   \n",
    " ?  \n",
    "Output: 4 5  \n",
    "1 9   \n",
    "1 0   \n",
    "x = [[4, 1, 1], [5, 9, 0]]   \n",
    "for i in __?__:  \n",
    " for j in __?__:  \n",
    " ?  \n",
    "Output: 4 1 1 5 9 0  \n",
    "x = [[4, 1, 1], [5, 9, 0]]  \n",
    "for i in __?__:   \n",
    " for j in __?__:  \n",
    " ?  \n",
    "Output: 4 1 1  \n",
    "5 9 0   "
   ]
  },
  {
   "cell_type": "code",
   "execution_count": 69,
   "metadata": {},
   "outputs": [
    {
     "name": "stdout",
     "output_type": "stream",
     "text": [
      "4\n",
      "1\n",
      "1\n",
      "5\n",
      "9\n",
      "0\n"
     ]
    }
   ],
   "source": [
    "x = [[4, 1, 1], [5, 9, 0]]\n",
    "for i in x:\n",
    "    for j in i:\n",
    "        print(j)\n",
    "        \n"
   ]
  },
  {
   "cell_type": "code",
   "execution_count": 70,
   "metadata": {},
   "outputs": [
    {
     "name": "stdout",
     "output_type": "stream",
     "text": [
      "4 1 1 5 9 0 "
     ]
    }
   ],
   "source": [
    "x = [[4, 1, 1], [5, 9, 0]]\n",
    "for i in x:\n",
    "    for j in i:\n",
    "        print(j, end = ' ')\n",
    "        "
   ]
  },
  {
   "cell_type": "code",
   "execution_count": 74,
   "metadata": {},
   "outputs": [
    {
     "name": "stdout",
     "output_type": "stream",
     "text": [
      "4 1 1 \n",
      "\n",
      "5 9 0 \n",
      "\n"
     ]
    }
   ],
   "source": [
    "x = [[4, 1, 1], [5, 9, 0]]\n",
    "for i in x:\n",
    "    for j in i:\n",
    "        print(j,end = ' ')\n",
    "    print(\"\\n\")\n",
    "        "
   ]
  },
  {
   "cell_type": "code",
   "execution_count": 98,
   "metadata": {},
   "outputs": [
    {
     "name": "stdout",
     "output_type": "stream",
     "text": [
      "4 5 \n",
      "\n",
      "1 9 \n",
      "\n",
      "1 0 \n",
      "\n"
     ]
    }
   ],
   "source": [
    "x = [[4, 1, 1], [5, 9, 0]]\n",
    "for j in range(0,len(x)+1):\n",
    "    for i in x:\n",
    "    #print(i)\n",
    "        print(i[j],end = ' ')\n",
    "    print(\"\\n\")\n",
    "        "
   ]
  },
  {
   "cell_type": "markdown",
   "metadata": {},
   "source": [
    "# 20. q = [10.62, 16.14, 6.45, 17.11]\n",
    "for __?__, z in enumerate (q) :   \n",
    " print( ‘Item ‘ + str( j ) + ‘ - ‘, str ( z ))   \n",
    "Output: Item 0 – 10.62   \n",
    "Item 1 – 16.14  \n",
    "Item 2 – 6.45  \n",
    "Item 3 – 17.11   \n",
    "1) z  \n",
    "2) i  \n",
    "3) j   \n",
    "4) x   \n",
    "5) k   \n",
    "6) y   "
   ]
  },
  {
   "cell_type": "code",
   "execution_count": 63,
   "metadata": {},
   "outputs": [
    {
     "name": "stdout",
     "output_type": "stream",
     "text": [
      "Item 0 -  10.62\n",
      "Item 1 -  16.14\n",
      "Item 2 -  6.45\n",
      "Item 3 -  17.11\n"
     ]
    }
   ],
   "source": [
    "q = [10.62, 16.14, 6.45, 17.11]\n",
    "for j, z in enumerate (q) :\n",
    "    print( \"Item \" + str( j ) + \" - \", str ( z ))"
   ]
  },
  {
   "cell_type": "markdown",
   "metadata": {},
   "source": [
    "# 21. Which of these about a dictionary is false?\n",
    "  \n",
    "b) The keys of a dictionary can be accessed using values  \n",
    "  "
   ]
  },
  {
   "cell_type": "markdown",
   "metadata": {},
   "source": [
    "# 22. What is the output of the following:\n",
    "D = dict()    \n",
    "for i in range (3):   \n",
    " for j in range(2):   \n",
    " D[i] = j  \n",
    "a. {0: 1, 1: 1, 2: 1}  \n",
    "b. {1: 0, 1: 1, 1: 2}  \n",
    "c. {0: 1, 1: 2, 2: 3}  \n",
    "d. {1: 2, 1: 1, 1: 0}  \n",
    "   "
   ]
  },
  {
   "cell_type": "code",
   "execution_count": 78,
   "metadata": {},
   "outputs": [
    {
     "name": "stdout",
     "output_type": "stream",
     "text": [
      "{0: 1, 1: 1, 2: 1}\n"
     ]
    }
   ],
   "source": [
    "D = dict()\n",
    "for i in range (3):\n",
    "    for j in range(2):\n",
    "        D[i] = j\n",
    "print(D)\n",
    "        \n",
    "        "
   ]
  },
  {
   "cell_type": "markdown",
   "metadata": {},
   "source": [
    "# 23. You are writing a function that increments player score in a soccer game\n",
    "If no value is specified for points, then point must start with 1   \n",
    "If no value is specified for bonus, then bonus should be True  \n",
    "01 def increment_score ( bonus , score , points ):  \n",
    "To meet the first requirement line 01 must be change to   \n",
    " def increment_score ( bonus , score , points = 1 ):\n",
    "(True )   \n",
    "To meet the second requirement line 01 must be change to   \n",
    " def increment_score ( bonus = True , score , points = 1 ): \n",
    "(False)   \n",
    " Once a parameter is defined with default value, any parameter to the right must also be defined   \n",
    "with default values (True)      "
   ]
  },
  {
   "cell_type": "markdown",
   "metadata": {},
   "source": [
    "# 24. What will be output?\n",
    "def avg ( x , y , z = 50 ):   \n",
    "adding = x + y + z   \n",
    "avg_value = adding / 3  \n",
    "return avg_value   \n",
    "y = avg ( x = 5 , y = 9 , z = 20 )   \n",
    "print(y)   "
   ]
  },
  {
   "cell_type": "code",
   "execution_count": 19,
   "metadata": {},
   "outputs": [
    {
     "name": "stdout",
     "output_type": "stream",
     "text": [
      "11.333333333333334\n"
     ]
    }
   ],
   "source": [
    "def avg ( x , y , z = 50 ):\n",
    "    adding = x + y + z\n",
    "    avg_value = adding / 3\n",
    "    return avg_value\n",
    "y = avg ( x = 5 , y = 9 , z = 20 )\n",
    "print(y)"
   ]
  },
  {
   "cell_type": "markdown",
   "metadata": {},
   "source": [
    "# 25. What will be output? Describe it with reason and logic behind. Do multiple experiments with arguments / parameters to remove error, if occurs.\n",
    "def avg ( *opt_values , name ):   \n",
    "avg_value = sum (opt_values) / len(opt_values)    \n",
    "print(‘name is: ’ + name + ‘Marks: ’ + str(avg_value))   \n",
    "avg ( 5 , 9 , 20, 34, 87, 112 , ‘Ali’ )   \n"
   ]
  },
  {
   "cell_type": "code",
   "execution_count": 47,
   "metadata": {},
   "outputs": [
    {
     "ename": "SyntaxError",
     "evalue": "invalid character in identifier (<ipython-input-47-53eed6103e94>, line 3)",
     "output_type": "error",
     "traceback": [
      "\u001b[1;36m  File \u001b[1;32m\"<ipython-input-47-53eed6103e94>\"\u001b[1;36m, line \u001b[1;32m3\u001b[0m\n\u001b[1;33m    print(‘name is: ’ + name + ‘Marks: ’ + str(avg_value))\u001b[0m\n\u001b[1;37m              ^\u001b[0m\n\u001b[1;31mSyntaxError\u001b[0m\u001b[1;31m:\u001b[0m invalid character in identifier\n"
     ]
    }
   ],
   "source": [
    "def avg ( *opt_values , name ):\n",
    "    avg_value = sum (opt_values) / len(opt_values)\n",
    "    print(‘name is: ’ + name + ‘Marks: ’ + str(avg_value))\n",
    "avg ( 5 , 9 , 20, 34, 87, 112 , ‘Ali’ )"
   ]
  },
  {
   "cell_type": "code",
   "execution_count": 49,
   "metadata": {},
   "outputs": [
    {
     "ename": "TypeError",
     "evalue": "avg() missing 1 required keyword-only argument: 'name'",
     "output_type": "error",
     "traceback": [
      "\u001b[1;31m---------------------------------------------------------------------------\u001b[0m",
      "\u001b[1;31mTypeError\u001b[0m                                 Traceback (most recent call last)",
      "\u001b[1;32m<ipython-input-49-b2525c998f24>\u001b[0m in \u001b[0;36m<module>\u001b[1;34m\u001b[0m\n\u001b[0;32m      2\u001b[0m     \u001b[0mavg_value\u001b[0m \u001b[1;33m=\u001b[0m \u001b[0msum\u001b[0m \u001b[1;33m(\u001b[0m\u001b[0mopt_values\u001b[0m\u001b[1;33m)\u001b[0m \u001b[1;33m/\u001b[0m \u001b[0mlen\u001b[0m\u001b[1;33m(\u001b[0m\u001b[0mopt_values\u001b[0m\u001b[1;33m)\u001b[0m\u001b[1;33m\u001b[0m\u001b[0m\n\u001b[0;32m      3\u001b[0m     \u001b[0mprint\u001b[0m\u001b[1;33m(\u001b[0m\u001b[1;34m\"name is: \"\u001b[0m \u001b[1;33m+\u001b[0m \u001b[0mname\u001b[0m \u001b[1;33m+\u001b[0m \u001b[1;34m\"Marks: \"\u001b[0m \u001b[1;33m+\u001b[0m \u001b[0mstr\u001b[0m\u001b[1;33m(\u001b[0m\u001b[0mavg_value\u001b[0m\u001b[1;33m)\u001b[0m\u001b[1;33m)\u001b[0m\u001b[1;33m\u001b[0m\u001b[0m\n\u001b[1;32m----> 4\u001b[1;33m \u001b[0mavg\u001b[0m \u001b[1;33m(\u001b[0m \u001b[1;36m5\u001b[0m \u001b[1;33m,\u001b[0m \u001b[1;36m9\u001b[0m \u001b[1;33m,\u001b[0m \u001b[1;36m20\u001b[0m\u001b[1;33m,\u001b[0m \u001b[1;36m34\u001b[0m\u001b[1;33m,\u001b[0m \u001b[1;36m87\u001b[0m\u001b[1;33m,\u001b[0m \u001b[1;36m112\u001b[0m \u001b[1;33m,\u001b[0m \u001b[1;34m\"Ali\"\u001b[0m \u001b[1;33m)\u001b[0m\u001b[1;33m\u001b[0m\u001b[0m\n\u001b[0m",
      "\u001b[1;31mTypeError\u001b[0m: avg() missing 1 required keyword-only argument: 'name'"
     ]
    }
   ],
   "source": [
    "def avg ( *opt_values , name ):\n",
    "    avg_value = sum (opt_values) / len(opt_values)\n",
    "    print(\"name is: \" + name + \"Marks: \" + str(avg_value))\n",
    "avg ( 5 , 9 , 20, 34, 87, 112 , \"Ali\" )"
   ]
  },
  {
   "cell_type": "code",
   "execution_count": 55,
   "metadata": {},
   "outputs": [
    {
     "name": "stdout",
     "output_type": "stream",
     "text": [
      "name is: AliMarks: 44.5\n"
     ]
    }
   ],
   "source": [
    "def avg ( *opt_values , name ):\n",
    "    avg_value = sum (opt_values) / len(opt_values)\n",
    "    print(\"name is: \" + name +   \"Marks: \" + str(avg_value))\n",
    "avg ( 5 , 9 , 20, 34, 87, 112 , name = \"Ali\" )"
   ]
  },
  {
   "cell_type": "code",
   "execution_count": 79,
   "metadata": {},
   "outputs": [
    {
     "ename": "SyntaxError",
     "evalue": "positional argument follows keyword argument (<ipython-input-79-16532f493490>, line 4)",
     "output_type": "error",
     "traceback": [
      "\u001b[1;36m  File \u001b[1;32m\"<ipython-input-79-16532f493490>\"\u001b[1;36m, line \u001b[1;32m4\u001b[0m\n\u001b[1;33m    avg (name = \"Ali\", 5 , 9 , 20, 34, 87, 112  )\u001b[0m\n\u001b[1;37m                      ^\u001b[0m\n\u001b[1;31mSyntaxError\u001b[0m\u001b[1;31m:\u001b[0m positional argument follows keyword argument\n"
     ]
    }
   ],
   "source": [
    "def avg ( *opt_values , name ):\n",
    "    avg_value = sum (opt_values) / len(opt_values)\n",
    "    print(\"name is: \" + name +   \"Marks: \" + str(avg_value))\n",
    "avg (name = \"Ali\", 5 , 9 , 20, 34, 87, 112  )"
   ]
  },
  {
   "cell_type": "code",
   "execution_count": 87,
   "metadata": {},
   "outputs": [
    {
     "ename": "NameError",
     "evalue": "name 'opt_values' is not defined",
     "output_type": "error",
     "traceback": [
      "\u001b[1;31m---------------------------------------------------------------------------\u001b[0m",
      "\u001b[1;31mNameError\u001b[0m                                 Traceback (most recent call last)",
      "\u001b[1;32m<ipython-input-87-24d688f00ae4>\u001b[0m in \u001b[0;36m<module>\u001b[1;34m\u001b[0m\n\u001b[0;32m      2\u001b[0m     \u001b[0mavg_value\u001b[0m \u001b[1;33m=\u001b[0m \u001b[0msum\u001b[0m \u001b[1;33m(\u001b[0m\u001b[0mopt_values\u001b[0m\u001b[1;33m)\u001b[0m \u001b[1;33m/\u001b[0m \u001b[0mlen\u001b[0m\u001b[1;33m(\u001b[0m\u001b[0mopt_values\u001b[0m\u001b[1;33m)\u001b[0m\u001b[1;33m\u001b[0m\u001b[0m\n\u001b[0;32m      3\u001b[0m     \u001b[0mprint\u001b[0m\u001b[1;33m(\u001b[0m\u001b[1;34m\"name is: \"\u001b[0m \u001b[1;33m+\u001b[0m \u001b[0mname\u001b[0m \u001b[1;33m+\u001b[0m   \u001b[1;34m\"Marks: \"\u001b[0m \u001b[1;33m+\u001b[0m \u001b[0mstr\u001b[0m\u001b[1;33m(\u001b[0m\u001b[0mavg_value\u001b[0m\u001b[1;33m)\u001b[0m\u001b[1;33m)\u001b[0m\u001b[1;33m\u001b[0m\u001b[0m\n\u001b[1;32m----> 4\u001b[1;33m \u001b[0mavg\u001b[0m \u001b[1;33m(\u001b[0m\u001b[1;34m\"Ali\"\u001b[0m\u001b[1;33m,\u001b[0m \u001b[1;36m5\u001b[0m \u001b[1;33m,\u001b[0m \u001b[1;36m9\u001b[0m \u001b[1;33m,\u001b[0m \u001b[1;36m20\u001b[0m\u001b[1;33m,\u001b[0m \u001b[1;36m34\u001b[0m\u001b[1;33m,\u001b[0m \u001b[1;36m87\u001b[0m\u001b[1;33m,\u001b[0m \u001b[1;36m112\u001b[0m  \u001b[1;33m)\u001b[0m\u001b[1;33m\u001b[0m\u001b[0m\n\u001b[0m",
      "\u001b[1;32m<ipython-input-87-24d688f00ae4>\u001b[0m in \u001b[0;36mavg\u001b[1;34m(name, *opt_value)\u001b[0m\n\u001b[0;32m      1\u001b[0m \u001b[1;32mdef\u001b[0m \u001b[0mavg\u001b[0m \u001b[1;33m(\u001b[0m\u001b[0mname\u001b[0m\u001b[1;33m,\u001b[0m\u001b[1;33m*\u001b[0m\u001b[0mopt_value\u001b[0m \u001b[1;33m)\u001b[0m\u001b[1;33m:\u001b[0m\u001b[1;33m\u001b[0m\u001b[0m\n\u001b[1;32m----> 2\u001b[1;33m     \u001b[0mavg_value\u001b[0m \u001b[1;33m=\u001b[0m \u001b[0msum\u001b[0m \u001b[1;33m(\u001b[0m\u001b[0mopt_values\u001b[0m\u001b[1;33m)\u001b[0m \u001b[1;33m/\u001b[0m \u001b[0mlen\u001b[0m\u001b[1;33m(\u001b[0m\u001b[0mopt_values\u001b[0m\u001b[1;33m)\u001b[0m\u001b[1;33m\u001b[0m\u001b[0m\n\u001b[0m\u001b[0;32m      3\u001b[0m     \u001b[0mprint\u001b[0m\u001b[1;33m(\u001b[0m\u001b[1;34m\"name is: \"\u001b[0m \u001b[1;33m+\u001b[0m \u001b[0mname\u001b[0m \u001b[1;33m+\u001b[0m   \u001b[1;34m\"Marks: \"\u001b[0m \u001b[1;33m+\u001b[0m \u001b[0mstr\u001b[0m\u001b[1;33m(\u001b[0m\u001b[0mavg_value\u001b[0m\u001b[1;33m)\u001b[0m\u001b[1;33m)\u001b[0m\u001b[1;33m\u001b[0m\u001b[0m\n\u001b[0;32m      4\u001b[0m \u001b[0mavg\u001b[0m \u001b[1;33m(\u001b[0m\u001b[1;34m\"Ali\"\u001b[0m\u001b[1;33m,\u001b[0m \u001b[1;36m5\u001b[0m \u001b[1;33m,\u001b[0m \u001b[1;36m9\u001b[0m \u001b[1;33m,\u001b[0m \u001b[1;36m20\u001b[0m\u001b[1;33m,\u001b[0m \u001b[1;36m34\u001b[0m\u001b[1;33m,\u001b[0m \u001b[1;36m87\u001b[0m\u001b[1;33m,\u001b[0m \u001b[1;36m112\u001b[0m  \u001b[1;33m)\u001b[0m\u001b[1;33m\u001b[0m\u001b[0m\n",
      "\u001b[1;31mNameError\u001b[0m: name 'opt_values' is not defined"
     ]
    }
   ],
   "source": [
    "def avg (name,*opt_value ):\n",
    "    avg_value = sum (opt_values) / len(opt_values)\n",
    "    print(\"name is: \" + name +   \"Marks: \" + str(avg_value))p\n",
    "avg (\"Ali\", 5 , 9 , 20, 34, 87, 112  )"
   ]
  },
  {
   "cell_type": "markdown",
   "metadata": {},
   "source": [
    "# 26. Final output is not required. Just take copy pencil, think and write the output of each line, write down the link between parameters and arguments. Remove one or two ** from other_info and observe the ouput.\n",
    "def display_result(winner, score, **other_info):     \n",
    "print(\"The winner was \" + winner)   \n",
    "print(\"The score was \" + score)     \n",
    "display_result(winner=“Manchester\", score=\"1-0\", overtime =\"yes\", injuries=\"none\")  "
   ]
  },
  {
   "cell_type": "code",
   "execution_count": 42,
   "metadata": {},
   "outputs": [
    {
     "name": "stdout",
     "output_type": "stream",
     "text": [
      "The winner was Manchester\n",
      "The score was 1-0\n"
     ]
    }
   ],
   "source": [
    "def display_result(winner, score, **other_info):\n",
    "    print(\"The winner was \" + winner)\n",
    "    print(\"The score was \" + score)\n",
    "display_result(winner=\"Manchester\", score=\"1-0\", overtime =\"yes\", injuries=\"none\")"
   ]
  },
  {
   "cell_type": "code",
   "execution_count": 43,
   "metadata": {},
   "outputs": [
    {
     "ename": "TypeError",
     "evalue": "display_result() got an unexpected keyword argument 'overtime'",
     "output_type": "error",
     "traceback": [
      "\u001b[1;31m---------------------------------------------------------------------------\u001b[0m",
      "\u001b[1;31mTypeError\u001b[0m                                 Traceback (most recent call last)",
      "\u001b[1;32m<ipython-input-43-504285f521b9>\u001b[0m in \u001b[0;36m<module>\u001b[1;34m\u001b[0m\n\u001b[0;32m      2\u001b[0m     \u001b[0mprint\u001b[0m\u001b[1;33m(\u001b[0m\u001b[1;34m\"The winner was \"\u001b[0m \u001b[1;33m+\u001b[0m \u001b[0mwinner\u001b[0m\u001b[1;33m)\u001b[0m\u001b[1;33m\u001b[0m\u001b[0m\n\u001b[0;32m      3\u001b[0m     \u001b[0mprint\u001b[0m\u001b[1;33m(\u001b[0m\u001b[1;34m\"The score was \"\u001b[0m \u001b[1;33m+\u001b[0m \u001b[0mscore\u001b[0m\u001b[1;33m)\u001b[0m\u001b[1;33m\u001b[0m\u001b[0m\n\u001b[1;32m----> 4\u001b[1;33m \u001b[0mdisplay_result\u001b[0m\u001b[1;33m(\u001b[0m\u001b[0mwinner\u001b[0m\u001b[1;33m=\u001b[0m\u001b[1;34m\"Manchester\"\u001b[0m\u001b[1;33m,\u001b[0m \u001b[0mscore\u001b[0m\u001b[1;33m=\u001b[0m\u001b[1;34m\"1-0\"\u001b[0m\u001b[1;33m,\u001b[0m \u001b[0movertime\u001b[0m \u001b[1;33m=\u001b[0m\u001b[1;34m\"yes\"\u001b[0m\u001b[1;33m,\u001b[0m \u001b[0minjuries\u001b[0m\u001b[1;33m=\u001b[0m\u001b[1;34m\"none\"\u001b[0m\u001b[1;33m)\u001b[0m\u001b[1;33m\u001b[0m\u001b[0m\n\u001b[0m",
      "\u001b[1;31mTypeError\u001b[0m: display_result() got an unexpected keyword argument 'overtime'"
     ]
    }
   ],
   "source": [
    "def display_result(winner, score, *other_info):\n",
    "    print(\"The winner was \" + winner)\n",
    "    print(\"The score was \" + score)\n",
    "display_result(winner=\"Manchester\", score=\"1-0\", overtime =\"yes\", injuries=\"none\")"
   ]
  },
  {
   "cell_type": "code",
   "execution_count": 44,
   "metadata": {},
   "outputs": [
    {
     "name": "stdout",
     "output_type": "stream",
     "text": [
      "The winner was Manchester\n",
      "The score was 1-0\n"
     ]
    }
   ],
   "source": [
    "def display_result(winner, score, **other_info):\n",
    "    print(\"The winner was \" + winner)\n",
    "    print(\"The score was \" + score)\n",
    "display_result(winner=\"Manchester\", score=\"1-0\",injuries=\"none\")"
   ]
  },
  {
   "cell_type": "code",
   "execution_count": 46,
   "metadata": {},
   "outputs": [
    {
     "name": "stdout",
     "output_type": "stream",
     "text": [
      "The winner was Manchester\n",
      "The score was 1-0\n"
     ]
    }
   ],
   "source": [
    "def display_result(winner, score, other_info):\n",
    "    print(\"The winner was \" + winner)\n",
    "    print(\"The score was \" + score)\n",
    "display_result(winner=\"Manchester\", score=\"1-0\",other_info=\"none\")"
   ]
  },
  {
   "cell_type": "markdown",
   "metadata": {},
   "source": [
    "# 27. The position of parameters and arguments is re-arranged. Just think and find the logic behind output or error.\n",
    "def display_result(winner, **other_info, score):  \n",
    "print(\"The winner was \" + winner)   \n",
    "print(\"The score was \" + score)   \n",
    "display_result(winner=“Manchester\", overtime =\"yes\", injuries=\"none“ , score=\"1-0“ )     "
   ]
  },
  {
   "cell_type": "code",
   "execution_count": 38,
   "metadata": {},
   "outputs": [
    {
     "ename": "SyntaxError",
     "evalue": "invalid syntax (<ipython-input-38-6f727fc9d90a>, line 1)",
     "output_type": "error",
     "traceback": [
      "\u001b[1;36m  File \u001b[1;32m\"<ipython-input-38-6f727fc9d90a>\"\u001b[1;36m, line \u001b[1;32m1\u001b[0m\n\u001b[1;33m    def display_result(winner, **other_info, score):\u001b[0m\n\u001b[1;37m                                                 ^\u001b[0m\n\u001b[1;31mSyntaxError\u001b[0m\u001b[1;31m:\u001b[0m invalid syntax\n"
     ]
    }
   ],
   "source": [
    "def display_result(winner, **other_info, score):\n",
    "    print(\"The winner was \" + winner)\n",
    "    print(\"The score was \" + score)\n",
    "display_result(winner=“Manchester\", overtime =\"yes\", injuries=\"none“ , score=\"1-0“ )"
   ]
  },
  {
   "cell_type": "code",
   "execution_count": 40,
   "metadata": {},
   "outputs": [
    {
     "name": "stdout",
     "output_type": "stream",
     "text": [
      "The winner was Manchester\n",
      "The score was 1-0\n"
     ]
    }
   ],
   "source": [
    "def display_result(winner,score, **other_info):\n",
    "    print(\"The winner was \" + winner)\n",
    "    print(\"The score was \" + score)\n",
    "display_result(winner=\"Manchester\", overtime =\"yes\", injuries=\"none\" , score=\"1-0\" )"
   ]
  },
  {
   "cell_type": "markdown",
   "metadata": {},
   "source": [
    "# 28. What will be the output of the following Python expression if X=123?\n",
    "print(“%06d”%X)     \n",
    "a) 123000   \n",
    "b) 000123   \n",
    "c) 000000123  \n",
    "d) 123000000    \n"
   ]
  },
  {
   "cell_type": "code",
   "execution_count": 20,
   "metadata": {},
   "outputs": [
    {
     "ename": "SyntaxError",
     "evalue": "invalid character in identifier (<ipython-input-20-94d909ea24bb>, line 2)",
     "output_type": "error",
     "traceback": [
      "\u001b[1;36m  File \u001b[1;32m\"<ipython-input-20-94d909ea24bb>\"\u001b[1;36m, line \u001b[1;32m2\u001b[0m\n\u001b[1;33m    print(“%06d”%X)\u001b[0m\n\u001b[1;37m          ^\u001b[0m\n\u001b[1;31mSyntaxError\u001b[0m\u001b[1;31m:\u001b[0m invalid character in identifier\n"
     ]
    }
   ],
   "source": [
    "X=123\n",
    "print(“%06d”%X)"
   ]
  },
  {
   "cell_type": "code",
   "execution_count": 21,
   "metadata": {},
   "outputs": [
    {
     "name": "stdout",
     "output_type": "stream",
     "text": [
      "000123\n"
     ]
    }
   ],
   "source": [
    "X=123\n",
    "print(\"%06d\"%X)"
   ]
  },
  {
   "cell_type": "markdown",
   "metadata": {},
   "source": [
    "# 29. What will be the output of the following Python expression if x=22.19?\n",
    "print(\"%5.2f\"%x)    \n",
    "a) 22.1900  \n",
    "b) 22.00000   \n",
    "c) 22.19  \n",
    "d) 22.20    "
   ]
  },
  {
   "cell_type": "code",
   "execution_count": 22,
   "metadata": {},
   "outputs": [
    {
     "name": "stdout",
     "output_type": "stream",
     "text": [
      "22.19\n"
     ]
    }
   ],
   "source": [
    "x=22.19\n",
    "print(\"%5.2f\"%x)"
   ]
  },
  {
   "cell_type": "markdown",
   "metadata": {},
   "source": [
    "# 30. What will be the output of the following Python code?\n",
    "'{0:f}, {1:2f}, {2:05.2f}'.format(1.23456, 1.23456, 1.23456)   \n",
    "a) Error    \n",
    "b) ‘1.234560, 1.22345, 1.23’   \n",
    "c) No output   \n",
    "d) ‘1.234560, 1.234560, 01.23’   "
   ]
  },
  {
   "cell_type": "code",
   "execution_count": 23,
   "metadata": {},
   "outputs": [
    {
     "data": {
      "text/plain": [
       "'1.234560, 1.234560, 01.23'"
      ]
     },
     "execution_count": 23,
     "metadata": {},
     "output_type": "execute_result"
    }
   ],
   "source": [
    "'{0:f}, {1:2f}, {2:05.2f}'.format(1.23456, 1.23456, 1.23456)"
   ]
  },
  {
   "cell_type": "markdown",
   "metadata": {},
   "source": [
    "# 31. Write down the output of each line after each iterations. Do multiple experiments to change values\n",
    "i = 1   \n",
    "while False:   \n",
    " if i%2 == 0:   \n",
    " break   \n",
    " print(i)   \n",
    " i += 2    "
   ]
  },
  {
   "cell_type": "code",
   "execution_count": 37,
   "metadata": {},
   "outputs": [
    {
     "name": "stdout",
     "output_type": "stream",
     "text": [
      "1\n"
     ]
    }
   ],
   "source": [
    "i = 1\n",
    "while False:\n",
    "    if i%2 == 0:\n",
    "        break\n",
    "print(i)\n",
    "i += 2"
   ]
  },
  {
   "cell_type": "markdown",
   "metadata": {},
   "source": [
    "# 32. Write down the output of each line after each iterations. Do multiple experiments to change values\n",
    "x = \"abcdef\"     \n",
    "i = \"a\"   \n",
    "while i in x:   \n",
    " x = x[:-1]   \n",
    " print(i, end = \" \")    "
   ]
  },
  {
   "cell_type": "code",
   "execution_count": 36,
   "metadata": {},
   "outputs": [
    {
     "name": "stdout",
     "output_type": "stream",
     "text": [
      "a a a a a a "
     ]
    }
   ],
   "source": [
    "x = \"abcdef\"\n",
    "i = \"a\"\n",
    "while i in x:\n",
    "    x = x[:-1]\n",
    "    print(i, end = \" \")"
   ]
  },
  {
   "cell_type": "markdown",
   "metadata": {},
   "source": [
    "# 33. Write down the output of each line after each iterations. Do multiple experiments to change values\n",
    "for i in ''.join(reversed(list('abcd'))):    \n",
    " print (i)      \n"
   ]
  },
  {
   "cell_type": "code",
   "execution_count": 35,
   "metadata": {},
   "outputs": [
    {
     "name": "stdout",
     "output_type": "stream",
     "text": [
      "d\n",
      "c\n",
      "b\n",
      "a\n"
     ]
    }
   ],
   "source": [
    "for i in ''.join(reversed(list('abcd'))):\n",
    "    print (i)"
   ]
  },
  {
   "cell_type": "markdown",
   "metadata": {},
   "source": [
    "# 34. Flow of the program. Write the output of each line after every iteration of ‘i’\n",
    "for i in range(10):  \n",
    " if i == 5:   \n",
    " break  \n",
    " else:   \n",
    " print(i)   \n",
    "else:   \n",
    " print(\"Here\")   "
   ]
  },
  {
   "cell_type": "code",
   "execution_count": 34,
   "metadata": {},
   "outputs": [
    {
     "name": "stdout",
     "output_type": "stream",
     "text": [
      "0\n",
      "1\n",
      "2\n",
      "3\n",
      "4\n"
     ]
    }
   ],
   "source": [
    "for i in range(10):\n",
    "    if i == 5:\n",
    "        break\n",
    "    else:\n",
    "        print(i)\n",
    "else:\n",
    "    print(\"Here\")"
   ]
  },
  {
   "cell_type": "markdown",
   "metadata": {},
   "source": [
    "# 35. What is the output? And understand the functionality of lambda function\n",
    "y = 6   \n",
    "z = lambda x: x * y   \n",
    "print z(8)   \n"
   ]
  },
  {
   "cell_type": "code",
   "execution_count": 25,
   "metadata": {},
   "outputs": [
    {
     "name": "stdout",
     "output_type": "stream",
     "text": [
      "48\n"
     ]
    }
   ],
   "source": [
    "y = 6\n",
    "z = lambda x: x * y\n",
    "print(z(8)) "
   ]
  },
  {
   "cell_type": "code",
   "execution_count": 94,
   "metadata": {},
   "outputs": [
    {
     "name": "stdout",
     "output_type": "stream",
     "text": [
      "54\n"
     ]
    }
   ],
   "source": [
    "y = 6\n",
    "z = lambda x: x * y +6\n",
    "print(z(8)) "
   ]
  },
  {
   "cell_type": "markdown",
   "metadata": {},
   "source": [
    "# 36. Write output and give proper logic of whatever the output comes.\n",
    "i=0              \n",
    "def change(i):     \n",
    " i=i+1        \n",
    " return i        \n",
    "change(1)          \n",
    "print(i)             "
   ]
  },
  {
   "cell_type": "code",
   "execution_count": 31,
   "metadata": {},
   "outputs": [
    {
     "name": "stdout",
     "output_type": "stream",
     "text": [
      "0\n"
     ]
    }
   ],
   "source": [
    "i=0\n",
    "def change(i):\n",
    "    i=i+1\n",
    "    return i\n",
    "change(1)\n",
    "print(i)"
   ]
  },
  {
   "cell_type": "markdown",
   "metadata": {},
   "source": [
    "# 40. What will be output? Define this output clearly\n",
    "def change(one, *two):    \n",
    " print(type(two))  \n",
    " print(two)   \n",
    "change(1,2,3,4)    "
   ]
  },
  {
   "cell_type": "code",
   "execution_count": 29,
   "metadata": {},
   "outputs": [
    {
     "name": "stdout",
     "output_type": "stream",
     "text": [
      "<class 'tuple'>\n",
      "(2, 3, 4)\n"
     ]
    }
   ],
   "source": [
    "def change(one, *two):\n",
    "    print(type(two))\n",
    "    print(two)\n",
    "change(1,2,3,4)"
   ]
  },
  {
   "cell_type": "markdown",
   "metadata": {},
   "source": [
    "# 41. What will be output? Define this output clearly\n",
    "def find(a, **b):   \n",
    " print(type(b))   \n",
    "find('letters',A='1',B='2')   "
   ]
  },
  {
   "cell_type": "code",
   "execution_count": 28,
   "metadata": {},
   "outputs": [
    {
     "name": "stdout",
     "output_type": "stream",
     "text": [
      "<class 'dict'>\n"
     ]
    }
   ],
   "source": [
    "def find(a, **b):\n",
    "    print(type(b))\n",
    "find('letters',A='1',B='2')"
   ]
  },
  {
   "cell_type": "markdown",
   "metadata": {},
   "source": [
    "# 42. Write output and define each line’s output for each iteration of ‘i’\n",
    "def foo(i, x=[]):  \n",
    " x.append(i)    \n",
    " return x  \n",
    "for i in range(3):  \n",
    " print(foo(i))   "
   ]
  },
  {
   "cell_type": "code",
   "execution_count": 27,
   "metadata": {},
   "outputs": [
    {
     "name": "stdout",
     "output_type": "stream",
     "text": [
      "[0]\n",
      "[0, 1]\n",
      "[0, 1, 2]\n"
     ]
    }
   ],
   "source": [
    "def foo(i, x=[]):\n",
    "    x.append(i)\n",
    "    return x\n",
    "for i in range(3):\n",
    "    print(foo(i))"
   ]
  },
  {
   "cell_type": "markdown",
   "metadata": {},
   "source": [
    "# 43. Evaluate the following Python arithmetic expression: and write which segment will execute first?\n",
    "(Brackets, Exponents, Multiplication, Addition / Subtraction, Left to right rule)\n",
    "\n",
    "\n"
   ]
  },
  {
   "cell_type": "code",
   "execution_count": 3,
   "metadata": {},
   "outputs": [
    {
     "data": {
      "text/plain": [
       "15"
      ]
     },
     "execution_count": 3,
     "metadata": {},
     "output_type": "execute_result"
    }
   ],
   "source": [
    "(3*(1+2)**2-(2**2)*3)\n",
    "# (1+2) = 3\n",
    "# (2**2) =  4\n",
    "#  3**2 =  9\n",
    "#  9*3  = 27\n",
    "#  4*3  = 12\n",
    "#  27-12 = 15"
   ]
  },
  {
   "cell_type": "markdown",
   "metadata": {},
   "source": [
    "# 44.You are creating a function that manipulates a number. The function has the following requirements:\n",
    " A float is passed into the function                   \n",
    " The function must take the absolute value of the float            \n",
    " Any decimal points after the integer must be removed       \n",
    "A. math.fmod(x)      \n",
    "B. math.frexp(x)     \n",
    "C. math.floor(x)      \n",
    "D. math.ceil(x)        \n",
    "E. math.fabs(x)           "
   ]
  },
  {
   "cell_type": "code",
   "execution_count": 89,
   "metadata": {},
   "outputs": [
    {
     "ename": "NameError",
     "evalue": "name 'math' is not defined",
     "output_type": "error",
     "traceback": [
      "\u001b[1;31m---------------------------------------------------------------------------\u001b[0m",
      "\u001b[1;31mNameError\u001b[0m                                 Traceback (most recent call last)",
      "\u001b[1;32m<ipython-input-89-ad1f6416728a>\u001b[0m in \u001b[0;36m<module>\u001b[1;34m\u001b[0m\n\u001b[1;32m----> 1\u001b[1;33m \u001b[0mprint\u001b[0m\u001b[1;33m(\u001b[0m\u001b[0mmath\u001b[0m\u001b[1;33m.\u001b[0m\u001b[0mfabs\u001b[0m\u001b[1;33m(\u001b[0m\u001b[1;36m10.65\u001b[0m\u001b[1;33m)\u001b[0m\u001b[1;33m)\u001b[0m\u001b[1;33m\u001b[0m\u001b[0m\n\u001b[0m",
      "\u001b[1;31mNameError\u001b[0m: name 'math' is not defined"
     ]
    }
   ],
   "source": [
    "print(math.fabs(10.65))"
   ]
  },
  {
   "cell_type": "code",
   "execution_count": 93,
   "metadata": {},
   "outputs": [
    {
     "name": "stdout",
     "output_type": "stream",
     "text": [
      "10.65\n",
      "10\n"
     ]
    }
   ],
   "source": [
    "import math\n",
    "print(math.fabs(10.65))\n",
    "#print(math.ceil(10.65))\n",
    "print(math.floor(10.65))"
   ]
  },
  {
   "cell_type": "markdown",
   "metadata": {},
   "source": [
    "# 45. You are writing code that generates a random integer with a minimum value of 5 and a maximum value of 11.\n",
    "Which two functions should you use? Each correct answer presents a complete solution. (Choose two.)    \n",
    "  \n",
    "B. random.randint(5, 11)    \n",
    "D. random.randrange(5, 11, 1)    "
   ]
  },
  {
   "cell_type": "markdown",
   "metadata": {},
   "source": [
    "# 46. Write a program that receives marks from user and check the grade.\n",
    "Marks greater than equal to 90 then A grade   \n",
    "Marks between 80 to 90, B grade   \n",
    "Marks between 70 to 80, C grade   \n",
    "Marks between 60 to 70, D grade   \n",
    "Marks less than equal to 60 then E grade   "
   ]
  },
  {
   "cell_type": "code",
   "execution_count": 88,
   "metadata": {},
   "outputs": [
    {
     "name": "stdout",
     "output_type": "stream",
     "text": [
      "Enter marks: 77\n",
      "Grade C\n"
     ]
    }
   ],
   "source": [
    "Marks = int(input(\"Enter marks: \"))\n",
    "if Marks >= 90:\n",
    "    print(\"Grade A\")\n",
    "elif Marks >=80:\n",
    "    print(\"Grade B\")\n",
    "elif Marks >=70:\n",
    "    print(\"Grade C\")\n",
    "elif Marks >= 60:\n",
    "    print(\"Grade D\")\n",
    "else:\n",
    "    if Marks <=60:\n",
    "        print(\"Grade E\")"
   ]
  }
 ],
 "metadata": {
  "kernelspec": {
   "display_name": "Python 3",
   "language": "python",
   "name": "python3"
  },
  "language_info": {
   "codemirror_mode": {
    "name": "ipython",
    "version": 3
   },
   "file_extension": ".py",
   "mimetype": "text/x-python",
   "name": "python",
   "nbconvert_exporter": "python",
   "pygments_lexer": "ipython3",
   "version": "3.7.0"
  }
 },
 "nbformat": 4,
 "nbformat_minor": 2
}
